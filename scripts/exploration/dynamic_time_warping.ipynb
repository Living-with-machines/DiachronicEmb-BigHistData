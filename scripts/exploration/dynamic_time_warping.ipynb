{
 "cells": [
  {
   "cell_type": "markdown",
   "metadata": {},
   "source": [
    "# Time-series k-means clustering with Dynamic Time Warping"
   ]
  },
  {
   "cell_type": "markdown",
   "metadata": {},
   "source": [
    "[Dynamic Time Warping](https://en.wikipedia.org/wiki/Dynamic_time_warping) (DTW) is a technique for time-series comparison. In this notebook we will use DTW as a core metric to perform _k_-means clustering of time-series data derived from the vectors of different words in different time slices. The goal is to cluster the semantic trajectories of different words in order to get insights into the several ways in which a word can undergo meaning change in the same timespan. To do so, we use the [implementation of this method in the `tslearn` library](https://tslearn.readthedocs.io/en/stable/user_guide/clustering.html)."
   ]
  },
  {
   "cell_type": "code",
   "execution_count": 1,
   "metadata": {},
   "outputs": [
    {
     "name": "stderr",
     "output_type": "stream",
     "text": [
      "/Users/npedrazzini/Desktop/LwMWordEmb/.venv/lib/python3.10/site-packages/tslearn/bases/bases.py:15: UserWarning: h5py not installed, hdf5 features will not be supported.\n",
      "Install h5py to use hdf5 features: http://docs.h5py.org/\n",
      "  warn(h5py_msg)\n"
     ]
    }
   ],
   "source": [
    "import os\n",
    "import pandas as pd\n",
    "import numpy as np\n",
    "from glob import glob\n",
    "from gensim.models import Word2Vec\n",
    "import matplotlib.pyplot as plt\n",
    "from tslearn.clustering import TimeSeriesKMeans, KShape\n",
    "from scipy import spatial"
   ]
  },
  {
   "cell_type": "markdown",
   "metadata": {},
   "source": [
    "Create subdir for all outputs of this notebook if it does not exist already:"
   ]
  },
  {
   "cell_type": "code",
   "execution_count": 2,
   "metadata": {},
   "outputs": [],
   "source": [
    "if not os.path.exists('./outputs'):\n",
    "    os.mkdir('./outputs')"
   ]
  },
  {
   "cell_type": "markdown",
   "metadata": {},
   "source": [
    "### Load pre-trained diachronic embeddings"
   ]
  },
  {
   "cell_type": "markdown",
   "metadata": {},
   "source": [
    "Change the following to the path to the folder containing the aligned diachonic models:"
   ]
  },
  {
   "cell_type": "code",
   "execution_count": 3,
   "metadata": {},
   "outputs": [],
   "source": [
    "pathtomodels = '../../outputs/lwmhmdwhole/aligned'"
   ]
  },
  {
   "cell_type": "markdown",
   "metadata": {},
   "source": [
    "List all models in the folder and sort them (so that we can identify the most recent time slice):"
   ]
  },
  {
   "cell_type": "code",
   "execution_count": 4,
   "metadata": {},
   "outputs": [],
   "source": [
    "allmodels = sorted(glob(f'{pathtomodels}/*.model'))"
   ]
  },
  {
   "cell_type": "markdown",
   "metadata": {},
   "source": [
    "Load the model for the most recent time slice:"
   ]
  },
  {
   "cell_type": "code",
   "execution_count": 5,
   "metadata": {},
   "outputs": [],
   "source": [
    "lastmodel = Word2Vec.load(allmodels[-1])"
   ]
  },
  {
   "cell_type": "markdown",
   "metadata": {},
   "source": [
    "Get the 'name' of each time slice (retrieved from the name of the model):"
   ]
  },
  {
   "cell_type": "code",
   "execution_count": 6,
   "metadata": {},
   "outputs": [],
   "source": [
    "slices_names = []\n",
    "for i in range(len(allmodels)):\n",
    "    slice_name = allmodels[i].split('/')[-1].split('.model')[0]\n",
    "    slices_names.append(slice_name)"
   ]
  },
  {
   "cell_type": "markdown",
   "metadata": {},
   "source": [
    "### Define words to analyse"
   ]
  },
  {
   "cell_type": "markdown",
   "metadata": {},
   "source": [
    "Give a list of words you wish to submit to the changepoint detection analysis:"
   ]
  },
  {
   "cell_type": "code",
   "execution_count": 7,
   "metadata": {},
   "outputs": [],
   "source": [
    "words = ['machine','traffic','train','coach','wheel','fellow','railway','match']"
   ]
  },
  {
   "cell_type": "markdown",
   "metadata": {},
   "source": [
    "Define function for calculating cosine similarity:"
   ]
  },
  {
   "cell_type": "code",
   "execution_count": 8,
   "metadata": {},
   "outputs": [],
   "source": [
    "def cosine_similarity(word,modelx,modely):\n",
    "  sc = 1-spatial.distance.cosine(modelx.wv[word], modely.wv[word])\n",
    "  return sc"
   ]
  },
  {
   "cell_type": "markdown",
   "metadata": {},
   "source": [
    "Iterate over all words and for each word iterate over each decade. Calculate the cosine similarity between the vector of the same word in the last time slice and each of the previous time slices. Write the list of cosine similarity scores under the relevant column:"
   ]
  },
  {
   "cell_type": "code",
   "execution_count": null,
   "metadata": {},
   "outputs": [
    {
     "name": "stdout",
     "output_type": "stream",
     "text": [
      "Now processing machine\n",
      "Now processing traffic\n",
      "Now processing train\n",
      "Now processing coach\n"
     ]
    }
   ],
   "source": [
    "cosmatrix = []\n",
    "columns = ['timeslice'] + words\n",
    "df = pd.DataFrame(columns=columns)\n",
    "df['timeslice'] = slices_names\n",
    "for word in words:\n",
    "    print(f'Now processing {word}')\n",
    "    col = []\n",
    "    for i in range(len(allmodels)):\n",
    "        prevmodel = Word2Vec.load(allmodels[i])\n",
    "        try:\n",
    "            col.append(cosine_similarity(word,prevmodel,lastmodel))\n",
    "        except KeyError:\n",
    "            col.append('key_not_present')\n",
    "    df[word] = col"
   ]
  },
  {
   "cell_type": "markdown",
   "metadata": {},
   "source": [
    "If you wish, you can save the `df`:"
   ]
  },
  {
   "cell_type": "code",
   "execution_count": 27,
   "metadata": {},
   "outputs": [],
   "source": [
    "df.to_csv('./outputs/compare_cosine_change.csv',index=False)"
   ]
  },
  {
   "cell_type": "markdown",
   "metadata": {},
   "source": [
    "Have a look at the df:"
   ]
  },
  {
   "cell_type": "code",
   "execution_count": 28,
   "metadata": {},
   "outputs": [
    {
     "data": {
      "text/html": [
       "<div>\n",
       "<style scoped>\n",
       "    .dataframe tbody tr th:only-of-type {\n",
       "        vertical-align: middle;\n",
       "    }\n",
       "\n",
       "    .dataframe tbody tr th {\n",
       "        vertical-align: top;\n",
       "    }\n",
       "\n",
       "    .dataframe thead th {\n",
       "        text-align: right;\n",
       "    }\n",
       "</style>\n",
       "<table border=\"1\" class=\"dataframe\">\n",
       "  <thead>\n",
       "    <tr style=\"text-align: right;\">\n",
       "      <th></th>\n",
       "      <th>timeslice</th>\n",
       "      <th>machine</th>\n",
       "      <th>traffic</th>\n",
       "      <th>train</th>\n",
       "      <th>coach</th>\n",
       "      <th>wheel</th>\n",
       "      <th>fellow</th>\n",
       "      <th>railway</th>\n",
       "      <th>match</th>\n",
       "    </tr>\n",
       "  </thead>\n",
       "  <tbody>\n",
       "    <tr>\n",
       "      <th>0</th>\n",
       "      <td>1800s</td>\n",
       "      <td>0.538324</td>\n",
       "      <td>0.420651</td>\n",
       "      <td>0.324786</td>\n",
       "      <td>0.489400</td>\n",
       "      <td>0.402803</td>\n",
       "      <td>0.479353</td>\n",
       "      <td>0.459577</td>\n",
       "      <td>0.554676</td>\n",
       "    </tr>\n",
       "    <tr>\n",
       "      <th>1</th>\n",
       "      <td>1810s</td>\n",
       "      <td>0.496138</td>\n",
       "      <td>0.449990</td>\n",
       "      <td>0.372578</td>\n",
       "      <td>0.460499</td>\n",
       "      <td>0.459370</td>\n",
       "      <td>0.589156</td>\n",
       "      <td>0.470775</td>\n",
       "      <td>0.527800</td>\n",
       "    </tr>\n",
       "    <tr>\n",
       "      <th>2</th>\n",
       "      <td>1820s</td>\n",
       "      <td>0.545932</td>\n",
       "      <td>0.482117</td>\n",
       "      <td>0.328774</td>\n",
       "      <td>0.441508</td>\n",
       "      <td>0.519986</td>\n",
       "      <td>0.582866</td>\n",
       "      <td>0.414534</td>\n",
       "      <td>0.577189</td>\n",
       "    </tr>\n",
       "    <tr>\n",
       "      <th>3</th>\n",
       "      <td>1830s</td>\n",
       "      <td>0.515663</td>\n",
       "      <td>0.544893</td>\n",
       "      <td>0.583711</td>\n",
       "      <td>0.651554</td>\n",
       "      <td>0.634569</td>\n",
       "      <td>0.611102</td>\n",
       "      <td>0.584951</td>\n",
       "      <td>0.549253</td>\n",
       "    </tr>\n",
       "    <tr>\n",
       "      <th>4</th>\n",
       "      <td>1840s</td>\n",
       "      <td>0.554430</td>\n",
       "      <td>0.607245</td>\n",
       "      <td>0.748666</td>\n",
       "      <td>0.623944</td>\n",
       "      <td>0.672513</td>\n",
       "      <td>0.623651</td>\n",
       "      <td>0.577083</td>\n",
       "      <td>0.581258</td>\n",
       "    </tr>\n",
       "    <tr>\n",
       "      <th>5</th>\n",
       "      <td>1850s</td>\n",
       "      <td>0.573959</td>\n",
       "      <td>0.609152</td>\n",
       "      <td>0.779634</td>\n",
       "      <td>0.597136</td>\n",
       "      <td>0.498528</td>\n",
       "      <td>0.628994</td>\n",
       "      <td>0.673453</td>\n",
       "      <td>0.577026</td>\n",
       "    </tr>\n",
       "    <tr>\n",
       "      <th>6</th>\n",
       "      <td>1860s</td>\n",
       "      <td>0.608009</td>\n",
       "      <td>0.644658</td>\n",
       "      <td>0.761839</td>\n",
       "      <td>0.603736</td>\n",
       "      <td>0.543629</td>\n",
       "      <td>0.692641</td>\n",
       "      <td>0.609641</td>\n",
       "      <td>0.672848</td>\n",
       "    </tr>\n",
       "    <tr>\n",
       "      <th>7</th>\n",
       "      <td>1870s</td>\n",
       "      <td>0.607793</td>\n",
       "      <td>0.772956</td>\n",
       "      <td>0.811547</td>\n",
       "      <td>0.637981</td>\n",
       "      <td>0.652446</td>\n",
       "      <td>0.729383</td>\n",
       "      <td>0.722852</td>\n",
       "      <td>0.685755</td>\n",
       "    </tr>\n",
       "    <tr>\n",
       "      <th>8</th>\n",
       "      <td>1880s</td>\n",
       "      <td>0.577767</td>\n",
       "      <td>0.765621</td>\n",
       "      <td>0.831359</td>\n",
       "      <td>0.611826</td>\n",
       "      <td>0.563883</td>\n",
       "      <td>0.786354</td>\n",
       "      <td>0.795577</td>\n",
       "      <td>0.757252</td>\n",
       "    </tr>\n",
       "    <tr>\n",
       "      <th>9</th>\n",
       "      <td>1890s</td>\n",
       "      <td>0.625799</td>\n",
       "      <td>0.824597</td>\n",
       "      <td>0.859910</td>\n",
       "      <td>0.688646</td>\n",
       "      <td>0.713338</td>\n",
       "      <td>0.844123</td>\n",
       "      <td>0.832950</td>\n",
       "      <td>0.820066</td>\n",
       "    </tr>\n",
       "    <tr>\n",
       "      <th>10</th>\n",
       "      <td>1900s</td>\n",
       "      <td>0.672116</td>\n",
       "      <td>0.834414</td>\n",
       "      <td>0.854633</td>\n",
       "      <td>0.728062</td>\n",
       "      <td>0.739897</td>\n",
       "      <td>0.837731</td>\n",
       "      <td>0.847964</td>\n",
       "      <td>0.905187</td>\n",
       "    </tr>\n",
       "    <tr>\n",
       "      <th>11</th>\n",
       "      <td>1910s</td>\n",
       "      <td>1.000000</td>\n",
       "      <td>1.000000</td>\n",
       "      <td>1.000000</td>\n",
       "      <td>1.000000</td>\n",
       "      <td>1.000000</td>\n",
       "      <td>1.000000</td>\n",
       "      <td>1.000000</td>\n",
       "      <td>1.000000</td>\n",
       "    </tr>\n",
       "  </tbody>\n",
       "</table>\n",
       "</div>"
      ],
      "text/plain": [
       "   timeslice   machine   traffic     train     coach     wheel    fellow  \\\n",
       "0      1800s  0.538324  0.420651  0.324786  0.489400  0.402803  0.479353   \n",
       "1      1810s  0.496138  0.449990  0.372578  0.460499  0.459370  0.589156   \n",
       "2      1820s  0.545932  0.482117  0.328774  0.441508  0.519986  0.582866   \n",
       "3      1830s  0.515663  0.544893  0.583711  0.651554  0.634569  0.611102   \n",
       "4      1840s  0.554430  0.607245  0.748666  0.623944  0.672513  0.623651   \n",
       "5      1850s  0.573959  0.609152  0.779634  0.597136  0.498528  0.628994   \n",
       "6      1860s  0.608009  0.644658  0.761839  0.603736  0.543629  0.692641   \n",
       "7      1870s  0.607793  0.772956  0.811547  0.637981  0.652446  0.729383   \n",
       "8      1880s  0.577767  0.765621  0.831359  0.611826  0.563883  0.786354   \n",
       "9      1890s  0.625799  0.824597  0.859910  0.688646  0.713338  0.844123   \n",
       "10     1900s  0.672116  0.834414  0.854633  0.728062  0.739897  0.837731   \n",
       "11     1910s  1.000000  1.000000  1.000000  1.000000  1.000000  1.000000   \n",
       "\n",
       "     railway     match  \n",
       "0   0.459577  0.554676  \n",
       "1   0.470775  0.527800  \n",
       "2   0.414534  0.577189  \n",
       "3   0.584951  0.549253  \n",
       "4   0.577083  0.581258  \n",
       "5   0.673453  0.577026  \n",
       "6   0.609641  0.672848  \n",
       "7   0.722852  0.685755  \n",
       "8   0.795577  0.757252  \n",
       "9   0.832950  0.820066  \n",
       "10  0.847964  0.905187  \n",
       "11  1.000000  1.000000  "
      ]
     },
     "execution_count": 28,
     "metadata": {},
     "output_type": "execute_result"
    }
   ],
   "source": [
    "df"
   ]
  },
  {
   "cell_type": "markdown",
   "metadata": {},
   "source": [
    "Create a time series for all terms in `words`:"
   ]
  },
  {
   "cell_type": "code",
   "execution_count": 29,
   "metadata": {},
   "outputs": [],
   "source": [
    "mySeries = []\n",
    "for word in words:\n",
    "    df2 = df.loc[:,[\"timeslice\",word]]\n",
    "    # While we are at it I just filtered the columns that we will be working on\n",
    "    df2.set_index(\"timeslice\",inplace=True)\n",
    "    # set the date columns as index\n",
    "    df2.sort_index(inplace=True)\n",
    "    # and lastly, ordered the data according to our date index\n",
    "    mySeries.append(df2)\n"
   ]
  },
  {
   "cell_type": "markdown",
   "metadata": {},
   "source": [
    "### K-Means clustering with DTW"
   ]
  },
  {
   "cell_type": "markdown",
   "metadata": {},
   "source": [
    "First find optimal number of clusters using `KShape` from `tslearn`. \n",
    "Define some parameters (complete list [here](https://tslearn.readthedocs.io/en/stable/gen_modules/clustering/tslearn.clustering.KShape.html#tslearn.clustering.KShape)). \n",
    "\n",
    "Note: `clusters_to_try` is not directly passed on to `KShape`, but it is the maximum number we iteratively pass to the `n_clusters` parameter. E.g., if we choose `4`, then there will be 4 iterations, with `n_clusters` starting from `1` at the first loop and ending with `4` at the fourth loop. If `clusters_to_try` is too high for the method, you will get an error saying so, at which point you will need to adjust the variable and run the cell again."
   ]
  },
  {
   "cell_type": "code",
   "execution_count": 35,
   "metadata": {},
   "outputs": [],
   "source": [
    "max_iter = 100\n",
    "n_init = 4\n",
    "random_state = 19051992\n",
    "verbose=True\n",
    "clusters_to_try = 4"
   ]
  },
  {
   "cell_type": "markdown",
   "metadata": {},
   "source": [
    "Now generate elbow graph:"
   ]
  },
  {
   "cell_type": "code",
   "execution_count": 36,
   "metadata": {},
   "outputs": [
    {
     "name": "stdout",
     "output_type": "stream",
     "text": [
      "Init 1\n",
      "0.434 --> 0.332 --> 0.265 --> 0.220 --> 0.191 --> 0.174 --> 0.168 --> 0.176 --> \n",
      "Init 2\n",
      "0.434 --> 0.332 --> 0.265 --> 0.220 --> 0.191 --> 0.174 --> 0.168 --> 0.176 --> \n",
      "Init 3\n",
      "0.434 --> 0.332 --> 0.265 --> 0.220 --> 0.191 --> 0.174 --> 0.168 --> 0.176 --> \n",
      "Init 4\n",
      "0.434 --> 0.332 --> 0.265 --> 0.220 --> 0.191 --> 0.174 --> 0.168 --> 0.176 --> \n",
      "Init 1\n",
      "0.430 --> 0.330 --> 0.264 --> 0.219 --> 0.191 --> 0.174 --> 0.167 --> 0.175 --> \n",
      "Init 2\n",
      "0.429 --> 0.329 --> 0.263 --> 0.218 --> 0.190 --> 0.173 --> 0.167 --> 0.175 --> \n",
      "Init 3\n",
      "0.431 --> 0.329 --> 0.263 --> 0.218 --> 0.190 --> 0.173 --> 0.167 --> 0.175 --> \n",
      "Init 4\n",
      "0.430 --> 0.330 --> 0.264 --> 0.219 --> 0.191 --> 0.174 --> 0.167 --> 0.175 --> \n",
      "Init 1\n",
      "Resumed because of empty cluster\n",
      "Init 1\n",
      "0.427 --> 0.327 --> 0.262 --> 0.218 --> 0.190 --> 0.173 --> 0.167 --> 0.175 --> \n",
      "Init 2\n",
      "0.426 --> 0.327 --> 0.262 --> 0.218 --> 0.190 --> 0.173 --> 0.167 --> 0.175 --> \n",
      "Init 3\n",
      "Resumed because of empty cluster\n",
      "Init 3\n",
      "0.427 --> 0.327 --> 0.262 --> 0.218 --> 0.190 --> 0.173 --> 0.166 --> 0.175 --> \n",
      "Init 4\n",
      "0.429 --> 0.329 --> 0.263 --> 0.218 --> 0.190 --> 0.173 --> 0.167 --> 0.175 --> \n"
     ]
    },
    {
     "data": {
      "image/png": "[encoded data removed]",
      "text/plain": [
       "<Figure size 432x288 with 1 Axes>"
      ]
     },
     "metadata": {
      "needs_background": "light"
     },
     "output_type": "display_data"
    }
   ],
   "source": [
    "distortions = []\n",
    "\n",
    "# Calculated from 1~4 clusters. Change \"4\" in \"range(1,4)\" to try out different numbers of clusters\n",
    "for i  in range(1,clusters_to_try):\n",
    "    ks = KShape(n_clusters=i, max_iter=max_iter, n_init=n_init, random_state=random_state, verbose=verbose)\n",
    "    # Run clustering calculations\n",
    "    ks.fit(mySeries)\n",
    "    # ks.fit gives ks.inertia_\n",
    "    distortions.append(ks.inertia_)\n",
    "\n",
    "plt.plot(range(1,clusters_to_try), distortions, marker='o')\n",
    "plt.xlabel('Number of clusters')\n",
    "plt.ylabel('Distortion')\n",
    "plt.show()"
   ]
  },
  {
   "cell_type": "markdown",
   "metadata": {},
   "source": [
    "Based on the elbow method above, change number of optimal clusters (this is where the 'elbow' is sharper):"
   ]
  },
  {
   "cell_type": "code",
   "execution_count": 31,
   "metadata": {},
   "outputs": [],
   "source": [
    "opt_num_clusters = 2"
   ]
  },
  {
   "cell_type": "markdown",
   "metadata": {},
   "source": [
    "Train a _k_-means model using the number of clusters shown to be optimal. First define some parameters (full list [here](https://tslearn.readthedocs.io/en/stable/gen_modules/clustering/tslearn.clustering.TimeSeriesKMeans.html#tslearn.clustering.TimeSeriesKMeans)):"
   ]
  },
  {
   "cell_type": "code",
   "execution_count": 37,
   "metadata": {},
   "outputs": [],
   "source": [
    "n_clusters = opt_num_clusters\n",
    "max_iter = 100 # default: 50\n",
    "n_init = 1 # default: 1\n",
    "dtw_inertia = True # default: False\n",
    "verbose = False # default: False\n",
    "random_state = 19051992 \n",
    "init = 'k-means++' # default: 'k-means++'"
   ]
  },
  {
   "cell_type": "code",
   "execution_count": 38,
   "metadata": {},
   "outputs": [],
   "source": [
    "model = TimeSeriesKMeans(n_clusters=n_clusters, metric=\"dtw\",\n",
    "                         max_iter=max_iter, random_state=random_state, \n",
    "                         n_init=n_init, dtw_inertia=dtw_inertia, \n",
    "                         verbose=verbose, init=init)\n",
    "labels = model.fit_predict(mySeries)\n",
    "labels = list(labels)"
   ]
  },
  {
   "cell_type": "markdown",
   "metadata": {},
   "source": [
    "Sublot timeseries according to clusters:"
   ]
  },
  {
   "cell_type": "code",
   "execution_count": 39,
   "metadata": {},
   "outputs": [
    {
     "data": {
      "image/png": "[encoded data removed]",
      "text/plain": [
       "<Figure size 432x288 with 1 Axes>"
      ]
     },
     "metadata": {
      "needs_background": "light"
     },
     "output_type": "display_data"
    },
    {
     "data": {
      "image/png": "[encoded data removed]",
      "text/plain": [
       "<Figure size 432x288 with 1 Axes>"
      ]
     },
     "metadata": {
      "needs_background": "light"
     },
     "output_type": "display_data"
    }
   ],
   "source": [
    "uniquelabels = list(dict.fromkeys(labels))\n",
    "for unique in uniquelabels:\n",
    "    plt.figure()\n",
    "    plt.ylim(0.2, 1)\n",
    "    plt.xlabel('Time slice',fontsize=18)\n",
    "    plt.xticks(rotation = 45)\n",
    "    plt.ylabel('Cosine similarity',fontsize=18)\n",
    "    plt.grid(True)\n",
    "    plt.plot(model.cluster_centers_[unique], \"r-\")\n",
    "    plt.title(f\"Cluster {unique + 1}\",fontsize=25)\n",
    "    for i in range(len(labels)):\n",
    "        if labels[i] == unique:\n",
    "            plt.plot(mySeries[i],\"c-\")\n",
    "    plt.savefig(f'outputs/cluster{unique}.png')\n",
    "        "
   ]
  },
  {
   "cell_type": "markdown",
   "metadata": {},
   "source": [
    "See which words belong to which clusters:"
   ]
  },
  {
   "cell_type": "code",
   "execution_count": 34,
   "metadata": {},
   "outputs": [
    {
     "data": {
      "text/html": [
       "<div>\n",
       "<style scoped>\n",
       "    .dataframe tbody tr th:only-of-type {\n",
       "        vertical-align: middle;\n",
       "    }\n",
       "\n",
       "    .dataframe tbody tr th {\n",
       "        vertical-align: top;\n",
       "    }\n",
       "\n",
       "    .dataframe thead th {\n",
       "        text-align: right;\n",
       "    }\n",
       "</style>\n",
       "<table border=\"1\" class=\"dataframe\">\n",
       "  <thead>\n",
       "    <tr style=\"text-align: right;\">\n",
       "      <th></th>\n",
       "      <th>Series</th>\n",
       "      <th>Cluster</th>\n",
       "    </tr>\n",
       "  </thead>\n",
       "  <tbody>\n",
       "    <tr>\n",
       "      <th>0</th>\n",
       "      <td>machine</td>\n",
       "      <td>Cluster 1</td>\n",
       "    </tr>\n",
       "    <tr>\n",
       "      <th>3</th>\n",
       "      <td>coach</td>\n",
       "      <td>Cluster 1</td>\n",
       "    </tr>\n",
       "    <tr>\n",
       "      <th>4</th>\n",
       "      <td>wheel</td>\n",
       "      <td>Cluster 1</td>\n",
       "    </tr>\n",
       "    <tr>\n",
       "      <th>1</th>\n",
       "      <td>traffic</td>\n",
       "      <td>Cluster 2</td>\n",
       "    </tr>\n",
       "    <tr>\n",
       "      <th>2</th>\n",
       "      <td>train</td>\n",
       "      <td>Cluster 2</td>\n",
       "    </tr>\n",
       "    <tr>\n",
       "      <th>5</th>\n",
       "      <td>fellow</td>\n",
       "      <td>Cluster 2</td>\n",
       "    </tr>\n",
       "    <tr>\n",
       "      <th>6</th>\n",
       "      <td>railway</td>\n",
       "      <td>Cluster 2</td>\n",
       "    </tr>\n",
       "    <tr>\n",
       "      <th>7</th>\n",
       "      <td>match</td>\n",
       "      <td>Cluster 2</td>\n",
       "    </tr>\n",
       "  </tbody>\n",
       "</table>\n",
       "</div>"
      ],
      "text/plain": [
       "    Series    Cluster\n",
       "0  machine  Cluster 1\n",
       "3    coach  Cluster 1\n",
       "4    wheel  Cluster 1\n",
       "1  traffic  Cluster 2\n",
       "2    train  Cluster 2\n",
       "5   fellow  Cluster 2\n",
       "6  railway  Cluster 2\n",
       "7    match  Cluster 2"
      ]
     },
     "execution_count": 34,
     "metadata": {},
     "output_type": "execute_result"
    }
   ],
   "source": [
    "names_for_labels = [f\"Cluster {label+1}\" for label in labels]\n",
    "labelsdf = pd.DataFrame(zip(words,names_for_labels),columns=[\"Series\",\"Cluster\"]).sort_values(by=\"Cluster\")\n",
    "labelsdf\n"
   ]
  }
 ],
 "metadata": {
  "kernelspec": {
   "display_name": "bighistdiachemb",
   "language": "python",
   "name": "bighistdiachemb"
  },
  "language_info": {
   "codemirror_mode": {
    "name": "ipython",
    "version": 3
   },
   "file_extension": ".py",
   "mimetype": "text/x-python",
   "name": "python",
   "nbconvert_exporter": "python",
   "pygments_lexer": "ipython3",
   "version": "3.10.1"
  },
  "vscode": {
   "interpreter": {
    "hash": "54ed4be044bdbfddf339b8bedcd1bd34fa47dd0b44ee203d7e74423349b7c92b"
   }
  }
 },
 "nbformat": 4,
 "nbformat_minor": 2
}
